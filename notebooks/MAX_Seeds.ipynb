{
 "cells": [
  {
   "cell_type": "markdown",
   "id": "ca939182",
   "metadata": {},
   "source": [
    "Elnamaki, A. (2025). \"Zeckendorf Decomposition and Maximal Seed Sequences.\" Available at SSRN: https://papers.ssrn.com/sol3/papers.cfm?abstract_id=5232361"
   ]
  },
  {
   "cell_type": "markdown",
   "id": "cbc25749",
   "metadata": {},
   "source": [
    "## Fibonacci Sequence and Zeckendorf Decomposition Notebook\n",
    "\n",
    "This notebook explores functions for generating Fibonacci sequences, computing Zeckendorf binary representations, and extracting maximal seed sequences. Each function is presented with a markdown cell explaining its purpose and mathematical foundation, followed by a code cell with the implementation.\n",
    "\n",
    "For $n > 2$, iteratively computes $F_i = F_{i-1} + F_{i-2}$.\n",
    "\n",
    "Formula:$$ F_i = \\begin{cases} 1 & \\text{if } i = 0 \\text{ or } i = 1 \\ F_{i-1} + F_{i-2} & \\text{if } i \\geq 2 \\end{cases} $$"
   ]
  },
  {
   "cell_type": "code",
   "execution_count": 6,
   "id": "58eea996",
   "metadata": {},
   "outputs": [
    {
     "data": {
      "text/plain": [
       "[1, 2, 3, 5, 8]"
      ]
     },
     "execution_count": 6,
     "metadata": {},
     "output_type": "execute_result"
    }
   ],
   "source": [
    "def fibonacci_sequence(n):\n",
    "    \"\"\"Generate fibonacci sequence up to n terms\"\"\"\n",
    "    if n <= 0:\n",
    "        return []\n",
    "    elif n == 1:\n",
    "        return [1]\n",
    "    elif n == 2:\n",
    "        return [1, 1]\n",
    "    \n",
    "    fib = [1, 2]\n",
    "    for i in range(2, n):\n",
    "        fib.append(fib[i-1] + fib[i-2])\n",
    "    return fib\n",
    "N = 5\n",
    "fib_sequence = fibonacci_sequence(N)\n",
    "fib_sequence"
   ]
  },
  {
   "cell_type": "code",
   "execution_count": 13,
   "id": "c954f3d3",
   "metadata": {},
   "outputs": [
    {
     "data": {
      "text/plain": [
       "[0, 1, 0, 0, 1]"
      ]
     },
     "execution_count": 13,
     "metadata": {},
     "output_type": "execute_result"
    }
   ],
   "source": [
    "def zeckendorf_decomposition(n):\n",
    "    \"\"\"Convert number to Zeckendorf binary representation\"\"\"\n",
    "    if n == 0:\n",
    "        return [0]\n",
    "    \n",
    "    # Generate fibonacci numbers up to n\n",
    "    fibs = [1, 2]\n",
    "    while fibs[-1] < n:\n",
    "        fibs.append(fibs[-1] + fibs[-2])\n",
    "    \n",
    "    # Remove fibonacci numbers greater than n\n",
    "    fibs = [f for f in fibs if f <= n]\n",
    "    \n",
    "    # Create binary representation\n",
    "    binary = [0] * len(fibs)\n",
    "    temp_n = n\n",
    "    \n",
    "    # Start from largest fibonacci number\n",
    "    for i in range(len(fibs) - 1, -1, -1):\n",
    "        if temp_n >= fibs[i]:\n",
    "            binary[i] = 1\n",
    "            temp_n -= fibs[i]\n",
    "    \n",
    "    return binary\n",
    "binary_rep = zeckendorf_decomposition(10)\n",
    "binary_rep"
   ]
  },
  {
   "cell_type": "markdown",
   "id": "547db0f7",
   "metadata": {},
   "source": [
    "## Binary to Fibonacci Number\n",
    "\n",
    "The binary_to_fibonacci_number function converts a Zeckendorf binary representation back to its integer value.\n",
    "\n",
    "Key Steps:\n",
    "\n",
    "Generates a Fibonacci sequence of length equal to the binary list.\n",
    "\n",
    "Sums Fibonacci numbers where the binary list has a 1.\n",
    "\n",
    "Formula:For binary $[b_0, b_1, \\dots, b_k]$, the number is: $$ n = \\sum_{i=0}^k b_i \\cdot F_i $$"
   ]
  },
  {
   "cell_type": "code",
   "execution_count": 7,
   "id": "cc3f077a",
   "metadata": {},
   "outputs": [
    {
     "data": {
      "text/plain": [
       "33"
      ]
     },
     "execution_count": 7,
     "metadata": {},
     "output_type": "execute_result"
    }
   ],
   "source": [
    "def binary_to_fibonacci_number(binary_rep):\n",
    "    \"\"\"Convert binary representation back to number using fibonacci sequence\"\"\"\n",
    "    if not binary_rep or all(bit == 0 for bit in binary_rep):\n",
    "        return 0\n",
    "    \n",
    "    # Generate fibonacci sequence of appropriate length\n",
    "    fibs = fibonacci_sequence(len(binary_rep))\n",
    "    \n",
    "    # Calculate the number\n",
    "    result = 0\n",
    "    for i, bit in enumerate(binary_rep):\n",
    "        if bit == 1:\n",
    "            result += fibs[i]\n",
    "    \n",
    "    return result\n",
    "test_binary = [1, 0, 1, 0, 1, 0, 1]  # Example binary representation\n",
    "binary_value = binary_to_fibonacci_number(test_binary)\n",
    "binary_value"
   ]
  },
  {
   "cell_type": "markdown",
   "id": "d7feae61",
   "metadata": {},
   "source": [
    "## 📤 Shifted Binary Representation (Prepending 0)\n",
    "\n",
    "In Elnamaki Coding, one structural operation is the **expanding binary shift**.  \n",
    "Given a binary vector representing a number in **Zeckendorf form**, we can **prepend** a `0` to it, creating a shifted structure without altering existing bits.\n",
    "\n",
    "This operation is defined as:\n",
    "\n",
    "$$ \\text{If } b = [b_0, b_1, \\dots, b_{n-1}], \\quad \\text{then } \\text{Shift}(b) = [0, b_0, b_1, \\dots, b_{n-1}] $$\n",
    "\n",
    "\n",
    "📌 **Key points:**\n",
    "- This is **not** a bitwise shift that removes elements.\n",
    "- The length increases by 1.\n",
    "- Used to align with the **next Fibonacci tail** in the recursive lattice.\n",
    "\n",
    "### 🔁 Example:\n",
    "\n",
    "$$ b = [1, 0, 1, 0, 1] \\implies \\text{Shift}(b) = [0, 1, 0, 1, 0, 1] $$\n",
    "\n",
    "This operation is useful in constructing **Nested Seed Expansions** and computing **recursive remainders**.\n"
   ]
  },
  {
   "cell_type": "code",
   "execution_count": 10,
   "id": "34003c6c",
   "metadata": {},
   "outputs": [
    {
     "data": {
      "text/plain": [
       "[0, 1, 0, 1, 0, 1, 0, 1]"
      ]
     },
     "execution_count": 10,
     "metadata": {},
     "output_type": "execute_result"
    }
   ],
   "source": [
    "def shifted_binary_list(binary_rep: list[int]) -> list[int]:\n",
    "    return [0] + binary_rep\n",
    "\n",
    "shifed = shifted_binary_list(test_binary)\n",
    "shifed"
   ]
  },
  {
   "cell_type": "markdown",
   "id": "ad27a2bc",
   "metadata": {},
   "source": [
    "## The maximal_seeds_extraction \n",
    "A function generates a sequence of numbers from $n$ by iteratively applying Zeckendorf decomposition, left shifting, and converting back to a number.\n",
    "\n",
    "Key Steps:\n",
    "\n",
    "Computes Zeckendorf binary for the current number.\n",
    "\n",
    "Shifts the binary left.\n",
    "\n",
    "Converts back to a number.\n",
    "\n",
    "Stops if the next number is $\\leq$ current, zero, or seen before.\n",
    "\n",
    "Process: For $n_t$ at step $t$, compute $n_{t+1} = \\sum_{i=0}^{k-1} b_{i+1} F_i$ from its binary $[b_0, b_1, \\dots, b_k]$."
   ]
  },
  {
   "cell_type": "code",
   "execution_count": 22,
   "id": "bd75bdf5",
   "metadata": {},
   "outputs": [
    {
     "data": {
      "text/plain": [
       "[62, 38, 24, 14, 10, 4, 6, -2]"
      ]
     },
     "execution_count": 22,
     "metadata": {},
     "output_type": "execute_result"
    }
   ],
   "source": [
    "def maximal_seeds_extraction(n):\n",
    "    \"\"\"\n",
    "    Extract maximal seeds sequence starting from number n\n",
    "    \"\"\"\n",
    "    sequence = []\n",
    "    current = n\n",
    "    \n",
    "    # Convert to Zeckendorf decomposition and get n1\n",
    "    zeck_binary = zeckendorf_decomposition(current)\n",
    "    n1 = binary_to_fibonacci_number(shifted_binary_list(zeck_binary))\n",
    "    \n",
    "    # Recursive subtraction: start with n1 and n, keep subtracting until we reach 0\n",
    "    a, b = n1, current\n",
    "    \n",
    "    \n",
    "    while a > 0:\n",
    "        diff = a - b\n",
    "        sequence.append(diff)\n",
    "        a, b = b, diff\n",
    "        if diff <= 0:\n",
    "            break\n",
    "    \n",
    "    return sequence\n",
    "max_seeds = maximal_seeds_extraction(100)\n",
    "max_seeds"
   ]
  },
  {
   "cell_type": "code",
   "execution_count": null,
   "id": "00e2c394",
   "metadata": {},
   "outputs": [],
   "source": []
  }
 ],
 "metadata": {
  "kernelspec": {
   "display_name": "venv",
   "language": "python",
   "name": "python3"
  },
  "language_info": {
   "codemirror_mode": {
    "name": "ipython",
    "version": 3
   },
   "file_extension": ".py",
   "mimetype": "text/x-python",
   "name": "python",
   "nbconvert_exporter": "python",
   "pygments_lexer": "ipython3",
   "version": "3.12.3"
  }
 },
 "nbformat": 4,
 "nbformat_minor": 5
}
