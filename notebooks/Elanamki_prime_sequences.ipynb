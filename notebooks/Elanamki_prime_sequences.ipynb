{
 "cells": [
  {
   "cell_type": "markdown",
   "id": "f1e1d11f",
   "metadata": {},
   "source": [
    "### 🌀 Elnamaki Space\n",
    "\n",
    "This notebook aims to construct the **Elnamaki Space** — a recursive arithmetic-topological structure grounded in:\n",
    "\n",
    "**Elnamaki Coding: A New Arithmetic Language Where Numbers Unfold as Recursive Fibonacci Seeds, Mapping the Hidden Architecture of Additive Reality.**\n",
    "\n",
    "🔗 **Read the full paper:**  \n",
    "[Elnamaki Coding – SSRN](https://papers.ssrn.com/sol3/papers.cfm?abstract_id=5232361)\n",
    "\n",
    "---\n",
    "\n",
    "**Key Objectives:**\n",
    "- Represent number evolution as recursive **(x, y)** seed structures.\n",
    "- Represent the prime space by identifying irreducible seeds and tracing their recursive transformations."
   ]
  },
  {
   "cell_type": "markdown",
   "id": "49676a0d",
   "metadata": {},
   "source": [
    "## 🌱 Generating Elnamaki Seeds\n",
    "\n",
    "In **Elnamaki Coding**, every number can be seen as a _recursive arithmetic seed_ — a pair `(x, y)` that evolves under Fibonacci-based rules. These seeds are the fundamental \"cells\" of the **Elnamaki Space**, like coordinates or genetic instructions in a recursive lattice.\n",
    "\n",
    "We start by generating a list of these seeds using simple arithmetic rules:\n",
    "- For each value of `y`, we take all integers `x` from `0` up to `y - 1`.\n",
    "- This gives us all `(x, y)` pairs where `x < y`.\n",
    "- These pairs form the initial topology over which Elnamaki dynamics unfold.\n",
    "\n",
    "This gives us a triangular seed structure that matches the combinatorial skeleton of additive operations.\n",
    "\n",
    "### 🧮 Mathematical Intuition\n",
    "If you imagine these pairs on a grid:\n",
    "- `y` represents a kind of layer or \"time\".\n",
    "- `x` represents a position within that layer.\n",
    "- Together, they trace an **expanding recursive plane** — essential to simulate Fibonacci-based evolution.\n",
    "\n",
    "Let’s write the Python function to generate the first `N` such seeds.\n"
   ]
  },
  {
   "cell_type": "code",
   "execution_count": 5,
   "id": "83ca7113",
   "metadata": {},
   "outputs": [],
   "source": [
    "from typing import List, Tuple\n",
    "\n",
    "def generate_elnamaki_seeds(num_seeds: int) -> List[Tuple[int, int]]:\n",
    "    \"\"\"\n",
    "    Generate the first `num_seeds` Elnamaki seeds as (a, b) pairs\n",
    "    such that 0 <= a < b, ordered by increasing b.\n",
    "    \n",
    "    Each seed represents a recursive address in the Elnamaki Space.\n",
    "    \"\"\"\n",
    "    seeds: List[Tuple[int, int]] = []\n",
    "    y = 1\n",
    "    while len(seeds) < num_seeds:\n",
    "        for x in range(y):\n",
    "            if len(seeds) >= num_seeds:\n",
    "                break\n",
    "            seeds.append((x, y))\n",
    "        y += 1\n",
    "    return seeds\n"
   ]
  },
  {
   "cell_type": "code",
   "execution_count": 9,
   "id": "9670a0a9",
   "metadata": {},
   "outputs": [
    {
     "name": "stdout",
     "output_type": "stream",
     "text": [
      "Seed:00 → (0, 1)\n",
      "Seed:01 → (0, 2)\n",
      "Seed:02 → (1, 2)\n",
      "Seed:03 → (0, 3)\n",
      "Seed:04 → (1, 3)\n",
      "Seed:05 → (2, 3)\n",
      "Seed:06 → (0, 4)\n",
      "Seed:07 → (1, 4)\n",
      "Seed:08 → (2, 4)\n",
      "Seed:09 → (3, 4)\n",
      "Seed:10 → (0, 5)\n",
      "Seed:11 → (1, 5)\n",
      "Seed:12 → (2, 5)\n",
      "Seed:13 → (3, 5)\n",
      "Seed:14 → (4, 5)\n"
     ]
    }
   ],
   "source": [
    "# Generate the first 15 Elnamaki seeds\n",
    "elnamaki_seeds = generate_elnamaki_seeds(15)\n",
    "\n",
    "# Display them\n",
    "for idx, (x, y) in enumerate(elnamaki_seeds):\n",
    "    print(f\"Seed:{idx:02d} → ({x}, {y})\")\n"
   ]
  },
  {
   "cell_type": "code",
   "execution_count": 10,
   "id": "27c169f0",
   "metadata": {},
   "outputs": [],
   "source": [
    "# Evolve a seed pair into a Fibonacci-like sequence\n",
    "def evolve_seed_pair(seed: Tuple[int, int], length: int) -> List[int]:\n",
    "    x, y = seed\n",
    "    sequence = [x, y]\n",
    "    while len(sequence) < length:\n",
    "        sequence.append(sequence[-1] + sequence[-2])\n",
    "    return sequence\n",
    "\n",
    "# Check if a seed appears as a contiguous subsequence in a sequence\n",
    "def is_subsequence(seed: Tuple[int, int], seq: List[int]) -> bool: \n",
    "    for i in range(len(seq) - 1):\n",
    "        if seq[i] == seed[0] and seq[i+1] == seed[1]:\n",
    "            return True\n",
    "    return False"
   ]
  },
  {
   "cell_type": "markdown",
   "id": "b2f07616",
   "metadata": {},
   "source": [
    "### 🔁 evolve_unique_elnamaki_sequences Explained\n",
    "\n",
    "This function generates a list of unique **Elnamaki-style sequences**, where each sequence originates from a 2-element **seed** `(x, y)` and evolves via a Fibonacci-like rule.\n",
    "\n",
    "\n",
    "#### 🧠 Why It Matters (Elnamaki Context)\n",
    "This structure models **symbolic evolution** based on initial conditions, ensuring **non-overlapping genesis patterns** across all symbolic chains—ideal for recursive neural evolution or arithmetic encoding.\n"
   ]
  },
  {
   "cell_type": "code",
   "execution_count": 29,
   "id": "53079b76",
   "metadata": {},
   "outputs": [],
   "source": [
    "def evolve_elnamaki_prime_sequences(num_seeds: int, sequence_length: int) -> Tuple[List[Tuple[int, int]], List[List[int]]]:\n",
    "    \"\"\"\n",
    "    Evolves only unique seed pairs whose (x, y) seed does not appear as a subsequence in previous sequences.\n",
    "    Returns:\n",
    "        - List of accepted seeds (x, y)\n",
    "        - List of evolved sequences for each accepted seed\n",
    "    \"\"\"\n",
    "    seeds = generate_elnamaki_seeds(num_seeds * 2)  # overshoot to prune\n",
    "    prime_seeds: List[Tuple[int, int]] = []\n",
    "    prime_sequences: List[List[int]] = []\n",
    "\n",
    "    for seed in seeds:\n",
    "        # Skip if seed already appears as a subsequence\n",
    "        if any(is_subsequence(seed, seq) for seq in prime_sequences):\n",
    "            continue\n",
    "        evolved_seq = evolve_seed_pair(seed, sequence_length)\n",
    "        prime_seeds.append(seed)\n",
    "        prime_sequences.append(evolved_seq)\n",
    "        if len(prime_seeds) >= num_seeds:\n",
    "            break\n",
    "\n",
    "    return prime_seeds, prime_sequences"
   ]
  },
  {
   "cell_type": "code",
   "execution_count": 32,
   "id": "4820b8fb",
   "metadata": {},
   "outputs": [
    {
     "name": "stdout",
     "output_type": "stream",
     "text": [
      "🧬 Prime Seeds:\n",
      "(0, 1)\n",
      "(0, 2)\n",
      "(0, 3)\n",
      "(1, 3)\n",
      "(0, 4)\n",
      "\n",
      "🔁 Prime Sequences:\n",
      "[0, 1, 1, 2, 3, 5]\n",
      "[0, 2, 2, 4, 6, 10]\n",
      "[0, 3, 3, 6, 9, 15]\n",
      "[1, 3, 4, 7, 11, 18]\n",
      "[0, 4, 4, 8, 12, 20]\n"
     ]
    }
   ],
   "source": [
    "prime_seeds, prime_sequences = evolve_elnamaki_prime_sequences(5, 6)\n",
    "\n",
    "print(\"🧬 Prime Seeds:\")\n",
    "for s in prime_seeds:\n",
    "    print(s)\n",
    "\n",
    "print(\"\\n🔁 Prime Sequences:\")\n",
    "for seq in prime_sequences:\n",
    "    print(seq)\n"
   ]
  }
 ],
 "metadata": {
  "kernelspec": {
   "display_name": "venv",
   "language": "python",
   "name": "python3"
  },
  "language_info": {
   "codemirror_mode": {
    "name": "ipython",
    "version": 3
   },
   "file_extension": ".py",
   "mimetype": "text/x-python",
   "name": "python",
   "nbconvert_exporter": "python",
   "pygments_lexer": "ipython3",
   "version": "3.12.3"
  }
 },
 "nbformat": 4,
 "nbformat_minor": 5
}
