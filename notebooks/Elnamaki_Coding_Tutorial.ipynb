{
 "cells": [
  {
   "cell_type": "markdown",
   "id": "c1344796",
   "metadata": {},
   "source": [
    "## Elnamaki Coding (EC) \n",
    "is a generative arithmetic framework where numbers are not static scalars but dynamic paths—recursive trajectories within a Fibonacci-topological manifold.\n",
    "\n",
    "This notebook explores:\n",
    "- Recursive arithmetic\n",
    "- Parametric Fibonacci sequences\n",
    "- Zeckendorf decomposition\n",
    "- Lowe and Elevate maps\n"
   ]
  },
  {
   "cell_type": "markdown",
   "id": "71b3ce93",
   "metadata": {},
   "source": [
    "## Classical Fibonacci Sequance \n",
    "The classical Fibonacci sequence is defined as:\n",
    "\n",
    "F₀ = 0, F₁ = 1  \n",
    "Fₙ = Fₙ₋₁ + Fₙ₋₂\n",
    "\n",
    "This forms the recursive backbone of Elnamaki Coding.\n"
   ]
  },
  {
   "cell_type": "code",
   "execution_count": 2,
   "id": "57e4759a",
   "metadata": {},
   "outputs": [
    {
     "data": {
      "text/plain": [
       "[0, 1, 1, 2, 3, 5, 8, 13, 21, 34]"
      ]
     },
     "execution_count": 2,
     "metadata": {},
     "output_type": "execute_result"
    }
   ],
   "source": [
    "def fibonacci_classical(n: int) -> list[int]:\n",
    "    F = [0, 1]\n",
    "    for i in range(2, n):\n",
    "        F.append(F[-1] + F[-2])\n",
    "    return F\n",
    "fibonacci_classical.__doc__ = \"Generates the first n Fibonacci numbers using a classical iterative approach.\"\n",
    "fib_sequence = fibonacci_classical(10)\n",
    "fib_sequence"
   ]
  },
  {
   "cell_type": "markdown",
   "id": "228228dc",
   "metadata": {},
   "source": [
    "**Zeckendorf Theorem:**  \n",
    "Every positive integer has a unique representation as a sum of non-consecutive Fibonacci numbers.\n",
    "\n",
    "Example:  \n",
    "`100 = 89 + 8 + 3`\n"
   ]
  },
  {
   "cell_type": "code",
   "execution_count": 3,
   "id": "5e47636a",
   "metadata": {},
   "outputs": [
    {
     "data": {
      "text/plain": [
       "[89, 8, 3]"
      ]
     },
     "execution_count": 3,
     "metadata": {},
     "output_type": "execute_result"
    }
   ],
   "source": [
    "def zeckendorf_decompose(n: int) -> list[int]:\n",
    "    fibs = fibonacci_classical(50)\n",
    "    result = []\n",
    "    i = len(fibs) - 1\n",
    "    while n > 0:\n",
    "        if fibs[i] <= n:\n",
    "            result.append(fibs[i])\n",
    "            n -= fibs[i]\n",
    "            i -= 2  # Skip next Fibonacci to avoid adjacency\n",
    "        else:\n",
    "            i -= 1\n",
    "    return result\n",
    "decompose_100 = zeckendorf_decompose(100)\n",
    "decompose_100\n"
   ]
  },
  {
   "cell_type": "markdown",
   "id": "157ae634",
   "metadata": {},
   "source": [
    "## 🧬 4. Parametric Fibonacci Sequences:\n",
    "Instead of fixed seeds (0, 1), EC starts from any pair (x, y) ∈ ℤ².  \n",
    "This creates **parametric Fibonacci sequences**:\n",
    "\n",
    "S₀ = x, S₁ = y, Sₙ = Sₙ₋₁ + Sₙ₋₂\n"
   ]
  },
  {
   "cell_type": "code",
   "execution_count": 24,
   "id": "a4ae3f96",
   "metadata": {},
   "outputs": [
    {
     "data": {
      "text/plain": [
       "[1, 5, 6, 11, 17, 28, 45, 73, 118, 191]"
      ]
     },
     "execution_count": 24,
     "metadata": {},
     "output_type": "execute_result"
    }
   ],
   "source": [
    "def parametric_fibonacci(x: int, y: int, n: int) -> list[int]:\n",
    "    seq = [x, y]\n",
    "    for _ in range(2, n):\n",
    "        seq.append(seq[-1] + seq[-2])\n",
    "    return seq\n",
    "parametric_fib_sequence = parametric_fibonacci(1, 5, 10)\n",
    "parametric_fib_sequence\n"
   ]
  },
  {
   "cell_type": "code",
   "execution_count": 23,
   "id": "b9e52086",
   "metadata": {},
   "outputs": [
    {
     "name": "stdout",
     "output_type": "stream",
     "text": [
      "Example N = 191\n"
     ]
    }
   ],
   "source": [
    "print(f\"Example N = {parametric_fib_sequence[-1]}\")"
   ]
  },
  {
   "cell_type": "markdown",
   "id": "bbafb207",
   "metadata": {},
   "source": [
    "## Fusion Products for N in a  sequences:\n",
    "\n",
    "Φₖ := ([sₖ, sₖ₊₁], [iₖ, iₖ₊₁])\n",
    "\n",
    "Each Φ reveals a structural window—how recursive arithmetic components fuse.\n"
   ]
  },
  {
   "cell_type": "code",
   "execution_count": 21,
   "id": "72be6fe9",
   "metadata": {},
   "outputs": [
    {
     "data": {
      "text/plain": [
       "[((1, 5), (21, 34)),\n",
       " ((5, 6), (13, 21)),\n",
       " ((6, 11), (8, 13)),\n",
       " ((11, 17), (5, 8)),\n",
       " ((17, 28), (3, 5)),\n",
       " ((28, 45), (2, 3)),\n",
       " ((45, 73), (1, 2)),\n",
       " ((73, 118), (1, 1)),\n",
       " ((118, 191), (0, 1))]"
      ]
     },
     "execution_count": 21,
     "metadata": {},
     "output_type": "execute_result"
    }
   ],
   "source": [
    "from typing import List, Tuple\n",
    "def fusion_products_from_sequence(S: List[int]) -> List[Tuple[Tuple[int, int], Tuple[int, int]]]:\n",
    "    F = [0, 1]\n",
    "    while len(F) < len(S):\n",
    "        F.append(F[-1] + F[-2])\n",
    "    \n",
    "    # Reverse the Fibonacci identities to pair from the end\n",
    "    reversed_identities = list(zip(F[:-1], F[1:]))[::-1]\n",
    "    \n",
    "    result = []\n",
    "    for i in range(len(S) - 1):\n",
    "        x = S[i]\n",
    "        y = S[i + 1]\n",
    "        identity = reversed_identities[i]\n",
    "        result.append(((x, y), identity))\n",
    "    \n",
    "    return result\n",
    "fusion_products_from_sequence.__doc__ = \"Generates fusion products from a given sequence S, pairing each element with its Fibonacci identity Which all can be used to rach the target number in a sequence in certain positions.\"\n",
    "fusions = fusion_products_from_sequence(parametric_fib_sequence)\n",
    "fusions\n"
   ]
  },
  {
   "cell_type": "markdown",
   "id": "bfb4e1b1",
   "metadata": {},
   "source": [
    "# Lowe Elevate Expansion Function\n",
    "\n",
    "The `lowe_elevate_expansion` function computes a sequence of coordinate pairs starting from a seed point $(x, y)$ and an identity pair $(f_n, f_{n-1})$. It performs the Lowe elevation process, generating a path of points based on the given transformation rules.\n",
    "\n",
    "Given:\n",
    "- `seed`: A tuple $(x, y)$ representing the starting coordinates.\n",
    "- `identity`: A tuple $(f_n, f_{n-1})$ defining the transformation parameters.\n",
    "\n",
    "The function calculates:\n",
    "1. Quotient $q = \\lfloor x / f_n \\rfloor$ and remainder $r = x \\mod f_n$.\n",
    "2. Initial point $(x', y') = (r, y + q \\cdot f_{n-1})$.\n",
    "3. Iteratively updates coordinates as $x_i = x_i + f_n$ and $y_i = y_i - f_{n-1}$ while $x_i < y_i$, appending each $(x_i, y_i)$ to the path.\n",
    "\n",
    "The function returns a list of coordinate pairs representing the path."
   ]
  },
  {
   "cell_type": "code",
   "execution_count": null,
   "id": "3ff17a16",
   "metadata": {},
   "outputs": [
    {
     "data": {
      "text/plain": [
       "[((1, 5), (21, 34)),\n",
       " ((5, 6), (13, 21)),\n",
       " ((6, 11), (8, 13)),\n",
       " ((11, 17), (5, 8)),\n",
       " ((17, 28), (3, 5)),\n",
       " ((28, 45), (2, 3)),\n",
       " ((45, 73), (1, 2)),\n",
       " ((73, 118), (1, 1))]"
      ]
     },
     "execution_count": 19,
     "metadata": {},
     "output_type": "execute_result"
    }
   ],
   "source": [
    "def lowe_elevate_expansion(seed: Tuple[int, int], identity: Tuple[int, int]) -> List[Tuple[int, int]]:\n",
    "    x, y = seed\n",
    "    fn1, fn = identity\n",
    "\n",
    "    q = x // fn\n",
    "    r = x % fn\n",
    "    x_prime = r\n",
    "    y_prime = y + q * fn1\n",
    "\n",
    "    path = [(x_prime, y_prime)]  # Lowe\n",
    "    xi, yi = x_prime, y_prime\n",
    "\n",
    "    while xi < yi:\n",
    "        xi += fn\n",
    "        yi -= fn1\n",
    "        if xi < yi:\n",
    "            path.append((xi, yi))\n",
    "    return path\n",
    "\n",
    "fusions = fusions[:-1]  # Exclude the last two\n",
    "fusions"
   ]
  },
  {
   "cell_type": "code",
   "execution_count": 25,
   "id": "8f69089d",
   "metadata": {},
   "outputs": [
    {
     "data": {
      "text/plain": [
       "[((1, 5), (21, 34), [(1, 5)]),\n",
       " ((5, 6), (13, 21), [(5, 6)]),\n",
       " ((6, 11), (8, 13), [(6, 11)]),\n",
       " ((11, 17), (5, 8), [(3, 22), (11, 17)]),\n",
       " ((17, 28), (3, 5), [(2, 37), (7, 34), (12, 31), (17, 28), (22, 25)]),\n",
       " ((28, 45),\n",
       "  (2, 3),\n",
       "  [(1, 63),\n",
       "   (4, 61),\n",
       "   (7, 59),\n",
       "   (10, 57),\n",
       "   (13, 55),\n",
       "   (16, 53),\n",
       "   (19, 51),\n",
       "   (22, 49),\n",
       "   (25, 47),\n",
       "   (28, 45),\n",
       "   (31, 43),\n",
       "   (34, 41),\n",
       "   (37, 39)]),\n",
       " ((45, 73),\n",
       "  (1, 2),\n",
       "  [(1, 95),\n",
       "   (3, 94),\n",
       "   (5, 93),\n",
       "   (7, 92),\n",
       "   (9, 91),\n",
       "   (11, 90),\n",
       "   (13, 89),\n",
       "   (15, 88),\n",
       "   (17, 87),\n",
       "   (19, 86),\n",
       "   (21, 85),\n",
       "   (23, 84),\n",
       "   (25, 83),\n",
       "   (27, 82),\n",
       "   (29, 81),\n",
       "   (31, 80),\n",
       "   (33, 79),\n",
       "   (35, 78),\n",
       "   (37, 77),\n",
       "   (39, 76),\n",
       "   (41, 75),\n",
       "   (43, 74),\n",
       "   (45, 73),\n",
       "   (47, 72),\n",
       "   (49, 71),\n",
       "   (51, 70),\n",
       "   (53, 69),\n",
       "   (55, 68),\n",
       "   (57, 67),\n",
       "   (59, 66),\n",
       "   (61, 65),\n",
       "   (63, 64)])]"
      ]
     },
     "execution_count": 25,
     "metadata": {},
     "output_type": "execute_result"
    }
   ],
   "source": [
    "def process_fusions(fusions):\n",
    "    results = []\n",
    "    for (seed_x, seed_y), (identity_fn1, identity_fn) in fusions:\n",
    "        # Check if seed_x is NOT perfectly divisible by identity_fn\n",
    "        if seed_x % identity_fn != 0:\n",
    "            expansion = lowe_elevate_expansion((seed_x, seed_y), (identity_fn1, identity_fn))\n",
    "            results.append(((seed_x, seed_y), (identity_fn1, identity_fn), expansion))\n",
    "    return results\n",
    "nested = process_fusions(fusions)\n",
    "nested"
   ]
  },
  {
   "cell_type": "code",
   "execution_count": null,
   "id": "756ae698",
   "metadata": {},
   "outputs": [],
   "source": []
  }
 ],
 "metadata": {
  "kernelspec": {
   "display_name": "venv",
   "language": "python",
   "name": "python3"
  },
  "language_info": {
   "codemirror_mode": {
    "name": "ipython",
    "version": 3
   },
   "file_extension": ".py",
   "mimetype": "text/x-python",
   "name": "python",
   "nbconvert_exporter": "python",
   "pygments_lexer": "ipython3",
   "version": "3.12.3"
  }
 },
 "nbformat": 4,
 "nbformat_minor": 5
}
